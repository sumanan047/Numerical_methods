{
 "cells": [
  {
   "cell_type": "code",
   "execution_count": 1,
   "metadata": {},
   "outputs": [],
   "source": [
    "#---------------------------------Bisection method package--------------------------------------------------------\n",
    "# Author: Suman Saurabh\n",
    "#email: sumanan047@gmail.com\n",
    "#-----------------------------------------------------------------------------------------------------------------\n",
    "# working with the package\n",
    "# 1.Define the function f first\n",
    "# 2.Run the function binary "
   ]
  },
  {
   "cell_type": "code",
   "execution_count": 2,
   "metadata": {},
   "outputs": [],
   "source": [
    "f = lambda t: t**3+4*(t**2)-10\n",
    "def binary(f,a,b,itern):\n",
    "    n=(a+b)/2\n",
    "    print(30*\"*\",\"Bisection method convergence visualization\",30*\"*\")\n",
    "    print(\"f(n)\",\"n\",sep=\"\\t\")\n",
    "    print(20*\"*\")\n",
    "    for i in range(1,itern):\n",
    "        if f(a)*f(n)>0:\n",
    "            n=(b+n)/2\n",
    "        else:\n",
    "            n=(a+n)/2\n",
    "        print(round(f(n),3),round(n,3),sep=\"\\t\")\n",
    "    return f(n)"
   ]
  },
  {
   "cell_type": "code",
   "execution_count": 67,
   "metadata": {},
   "outputs": [
    {
     "name": "stdout",
     "output_type": "stream",
     "text": [
      "****************************** Bisection method convergence visualization ******************************\n",
      "f(n)\tn\n",
      "********************\n",
      "-1.797\t1.25\n",
      "4.854\t1.625\n",
      "-0.848\t1.312\n",
      "5.516\t1.656\n",
      "-0.602\t1.328\n",
      "5.684\t1.664\n",
      "-0.539\t1.332\n",
      "5.727\t1.666\n",
      "-0.524\t1.333\n",
      "5.737\t1.667\n",
      "-0.52\t1.333\n",
      "5.74\t1.667\n",
      "-0.519\t1.333\n",
      "5.741\t1.667\n",
      "-0.519\t1.333\n",
      "5.741\t1.667\n",
      "-0.519\t1.333\n"
     ]
    }
   ],
   "source": [
    "val = binary(f,1,2,18)"
   ]
  },
  {
   "cell_type": "code",
   "execution_count": 3,
   "metadata": {},
   "outputs": [
    {
     "data": {
      "image/png": "[encoded data removed]",
      "text/plain": [
       "<Figure size 432x288 with 1 Axes>"
      ]
     },
     "metadata": {
      "needs_background": "light"
     },
     "output_type": "display_data"
    }
   ],
   "source": [
    "# visualization of the location of root by plotting\n",
    "\n",
    "import matplotlib.pyplot as plt\n",
    "import numpy as np\n",
    "t=np.linspace(1,2,1000)\n",
    "plt.plot(t,t**3+4*(t**2)-10,'r--')\n",
    "plt.grid(True)"
   ]
  },
  {
   "cell_type": "code",
   "execution_count": null,
   "metadata": {},
   "outputs": [],
   "source": []
  }
 ],
 "metadata": {
  "kernelspec": {
   "display_name": "Python 3",
   "language": "python",
   "name": "python3"
  },
  "language_info": {
   "codemirror_mode": {
    "name": "ipython",
    "version": 3
   },
   "file_extension": ".py",
   "mimetype": "text/x-python",
   "name": "python",
   "nbconvert_exporter": "python",
   "pygments_lexer": "ipython3",
   "version": "3.8.3"
  }
 },
 "nbformat": 4,
 "nbformat_minor": 4
}
