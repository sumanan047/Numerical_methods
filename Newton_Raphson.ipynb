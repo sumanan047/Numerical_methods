{
 "cells": [
  {
   "cell_type": "code",
   "execution_count": 101,
   "metadata": {},
   "outputs": [],
   "source": [
    "#---------------------------------Newton-Raphson method package--------------------------------------------------------\n",
    "#Author: Suman Saurabh\n",
    "#email: sumanan047@gmail.com\n",
    "#-----------------------------------------------------------------------------------------------------------------\n",
    "# Working with the package\n",
    "# 1.Define the function f first\n",
    "# 2.Run the function newton\n",
    "#--------------------------------parameters and the defaults in the package---------------------------------------"
   ]
  },
  {
   "cell_type": "code",
   "execution_count": 105,
   "metadata": {},
   "outputs": [],
   "source": [
    "f = lambda t: t**3+4*(t**2)-10  # defining the required function\n",
    "\n",
    "# the solver function is defined here\n",
    "def newton(f,seed,itern=10,rounding=3,diff_tol=0.1,sol_tol=1E-10):\n",
    "    \"\"\"\n",
    "The function newton has several parameters all of them has been talked about a bit below:\n",
    "                1. f: It is the function/equation to be solevd, the user of the package must define this \n",
    "                function before calling the solver package \"newton\".\n",
    "                2. seed: It is the initial estimation of the value of root for the equation. It can be set at any\n",
    "                value, but user should be aware of the complexities that can arise because of the \n",
    "                problems of discontinuous nature of function. Hence, this value should be set with an intelligent \n",
    "                guess or some amount of ground work\n",
    "                3. itern: Sets the number of iteration the loop in the function newton should run if the \n",
    "                convergence has not been reached upto defined solution tolerance, default value of 1E-10.\n",
    "                4.rounding: It is the rounding of number of signficant digits the solution and numbers generated \n",
    "                in function are reduced to for printing, default value is 3 decimal places.\n",
    "                5. diff_tol: It is the forward difference value used in estimation of derivaive of the function\n",
    "                in the neighborhood of the seed value, default value is 0.1. It can be easily made smaller to \n",
    "                achieve convergence quicker.\n",
    "                6. sol_tol: This parameter checks if the seed value in each iteration is changing more than \n",
    "                this threshold value or not. If the chnage in seed values is smaller than this value, the loop \n",
    "                in the package exits and the prompt that convergence has been achieved is printed. Hence, \n",
    "                changing this values is essential to achieve more precise convergence. \n",
    "                  \n",
    "    \"\"\"\n",
    "    soln=[] # empty list to save the seed values for comparison to check if they are chnaging in each iteration\n",
    "    print(30*\"*\",\"Newton's method convergence visualization\",30*\"*\")\n",
    "    print(\"f(n)\",\"n\",sep=\"\\t\")\n",
    "    print(20*\"*\")\n",
    "    for i in range(1,itern):\n",
    "        seed = seed - (f(seed)*(diff_tol))/(f(seed+diff_tol)-f(seed)) # execution fo the newton's method\n",
    "        soln.append(seed)\n",
    "        # to check if the convergence upto a certain tolerance is acheived\n",
    "        if (len(soln)>2) and ((soln[-2]-soln[-1])<(sol_tol)):\n",
    "            print(\"Convergene of solution achieved! after\",i,\"iterations! at seed value of:\",round(seed,rounding))\n",
    "            break\n",
    "        print(round(f(seed),rounding),round(seed,rounding),sep=\"\\t\") # serves for pretty printing\n",
    "    return seed"
   ]
  },
  {
   "cell_type": "code",
   "execution_count": 107,
   "metadata": {},
   "outputs": [
    {
     "name": "stdout",
     "output_type": "stream",
     "text": [
      "****************************** Newton's method convergence visualization ******************************\n",
      "f(n)\tn\n",
      "********************\n",
      "61.551\t3.161\n",
      "16.125\t2.074\n",
      "3.25\t1.546\n",
      "0.354\t1.386\n",
      "0.02\t1.366\n",
      "0.001\t1.365\n",
      "0.0\t1.365\n",
      "0.0\t1.365\n",
      "0.0\t1.365\n"
     ]
    },
    {
     "data": {
      "text/plain": [
       "1.0009188500248456e-07"
      ]
     },
     "execution_count": 107,
     "metadata": {},
     "output_type": "execute_result"
    }
   ],
   "source": [
    "#---------------------------------Typical execution of the function-----------------------------------------------\n",
    "root=newton(f,5) # saving the root found by the package in a varibale called root \n",
    "f(root)  # checking the value of function if its close to zero or not at found root for the equation"
   ]
  },
  {
   "cell_type": "code",
   "execution_count": null,
   "metadata": {},
   "outputs": [],
   "source": []
  }
 ],
 "metadata": {
  "kernelspec": {
   "display_name": "Python 3",
   "language": "python",
   "name": "python3"
  },
  "language_info": {
   "codemirror_mode": {
    "name": "ipython",
    "version": 3
   },
   "file_extension": ".py",
   "mimetype": "text/x-python",
   "name": "python",
   "nbconvert_exporter": "python",
   "pygments_lexer": "ipython3",
   "version": "3.8.3"
  }
 },
 "nbformat": 4,
 "nbformat_minor": 4
}
